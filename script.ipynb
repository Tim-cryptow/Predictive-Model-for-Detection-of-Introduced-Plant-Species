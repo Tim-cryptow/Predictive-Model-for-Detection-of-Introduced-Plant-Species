{
 "cells": [
  {
   "cell_type": "code",
   "execution_count": 2,
   "metadata": {},
   "outputs": [],
   "source": [
    "# Datasets were download from Kaggle (https://www.kaggle.com/datasets/dem0nking/world-checklist-of-vascular-plants-wcvp-dataset/data)\n",
    "import pandas as pd\n",
    "distribution_dataset = pd.read_csv(\"wcvp_distribution.csv\")\n",
    "names_dataset = pd.read_csv(\"wcvp_names.csv\", low_memory=False)\n",
    "plants = pd.merge(distribution_dataset, names_dataset, on='plant_name_id', how='left')\n"
   ]
  },
  {
   "cell_type": "code",
   "execution_count": 3,
   "metadata": {},
   "outputs": [
    {
     "name": "stdout",
     "output_type": "stream",
     "text": [
      "continent                    0\n",
      "region                     100\n",
      "area                       711\n",
      "introduced                   0\n",
      "extinct                      0\n",
      "taxon_rank              117844\n",
      "taxon_status            117844\n",
      "family                  117844\n",
      "genus                   117844\n",
      "species                 198198\n",
      "taxon_name              117844\n",
      "lifeform_description    242219\n",
      "climate_description     205100\n",
      "dtype: int64\n"
     ]
    }
   ],
   "source": [
    "# Upon previous careful exploratory data analysis performed on the datasets, relevant columns have been selected for the the purpose of the model development\n",
    "plants = plants[['continent', 'region', 'area', 'introduced', 'extinct', 'taxon_rank', 'taxon_status', 'family', 'genus', 'species', 'taxon_name', 'lifeform_description', 'climate_description']]\n",
    "print(plants.isnull().sum())"
   ]
  },
  {
   "cell_type": "code",
   "execution_count": 4,
   "metadata": {},
   "outputs": [
    {
     "name": "stdout",
     "output_type": "stream",
     "text": [
      "continent               0\n",
      "region                  0\n",
      "area                    0\n",
      "introduced              0\n",
      "extinct                 0\n",
      "taxon_rank              0\n",
      "taxon_status            0\n",
      "family                  0\n",
      "genus                   0\n",
      "species                 0\n",
      "taxon_name              0\n",
      "lifeform_description    0\n",
      "climate_description     0\n",
      "dtype: int64\n",
      "(1047864, 13)\n"
     ]
    }
   ],
   "source": [
    "# Data Cleaning\n",
    "columns_to_impute = ['taxon_rank', 'taxon_status', 'family', 'genus', 'species', 'taxon_name', 'lifeform_description', 'climate_description']\n",
    "plants[columns_to_impute] = plants[columns_to_impute].fillna('Unknown')\n",
    "columns_to_check = ['region', 'area']\n",
    "plants = plants.dropna(subset=columns_to_check)\n",
    "print(plants.isnull().sum())\n",
    "print(plants.shape)"
   ]
  },
  {
   "cell_type": "code",
   "execution_count": 5,
   "metadata": {},
   "outputs": [],
   "source": [
    "# Feature Engineering\n",
    "from sklearn.preprocessing import LabelEncoder\n",
    "from sklearn.model_selection import train_test_split\n",
    "from sklearn.ensemble import RandomForestClassifier\n",
    "from sklearn.metrics import classification_report, confusion_matrix, accuracy_score\n",
    "\n",
    "# Encoding Categorical columns\n",
    "categorical_columns = ['continent', 'region', 'area', 'taxon_rank', 'taxon_status', 'family', 'genus', 'species', 'taxon_name', 'lifeform_description', 'climate_description']\n",
    "label_encoders = {}\n",
    "for col in categorical_columns:\n",
    "    le = LabelEncoder()\n",
    "    plants[col] = le.fit_transform(plants[col])\n",
    "    label_encoders[col] = le"
   ]
  },
  {
   "cell_type": "code",
   "execution_count": 6,
   "metadata": {},
   "outputs": [],
   "source": [
    "# Splitting the data into training (80%), validation (10%) and testing (10%) sets\n",
    "train_plants, val_test_plants = train_test_split(plants, test_size=0.2, random_state=42)\n",
    "val_plants, test_plants = train_test_split(val_test_plants, test_size=0.5, random_state=42, shuffle=True)"
   ]
  },
  {
   "cell_type": "code",
   "execution_count": 7,
   "metadata": {},
   "outputs": [],
   "source": [
    "X_train = train_plants.drop(columns=['introduced'])\n",
    "y_train = train_plants['introduced']\n",
    "\n",
    "X_val = val_plants.drop(columns=['introduced'])\n",
    "y_val = val_plants['introduced']\n",
    "\n",
    "X_test = test_plants.drop(columns=['introduced'])\n",
    "y_test = test_plants['introduced']\n"
   ]
  },
  {
   "cell_type": "code",
   "execution_count": 8,
   "metadata": {},
   "outputs": [
    {
     "name": "stdout",
     "output_type": "stream",
     "text": [
      "Validation Set Results:\n",
      "Accuracy: 0.9606626839463287\n",
      "Confusion Matrix:\n",
      " [[92838   547]\n",
      " [ 3575  7826]]\n",
      "Classification Report:\n",
      "               precision    recall  f1-score   support\n",
      "\n",
      "           0       0.96      0.99      0.98     93385\n",
      "           1       0.93      0.69      0.79     11401\n",
      "\n",
      "    accuracy                           0.96    104786\n",
      "   macro avg       0.95      0.84      0.88    104786\n",
      "weighted avg       0.96      0.96      0.96    104786\n",
      "\n"
     ]
    }
   ],
   "source": [
    "# Initializing the Random Forest Classifier\n",
    "rfc_model = RandomForestClassifier(n_estimators=100, random_state=42)\n",
    "\n",
    "# Train the model on the training data\n",
    "rfc_model.fit(X_train, y_train)\n",
    "\n",
    "y_val_pred = rfc_model.predict(X_val)\n",
    "\n",
    "print(\"Validation Set Results:\")\n",
    "print(\"Accuracy:\", accuracy_score(y_val, y_val_pred))\n",
    "print(\"Confusion Matrix:\\n\", confusion_matrix(y_val, y_val_pred))\n",
    "print(\"Classification Report:\\n\", classification_report(y_val, y_val_pred))\n"
   ]
  },
  {
   "cell_type": "code",
   "execution_count": 9,
   "metadata": {},
   "outputs": [
    {
     "name": "stdout",
     "output_type": "stream",
     "text": [
      "Best Parameters: {'n_estimators': 200, 'min_samples_split': 10, 'min_samples_leaf': 1, 'max_depth': 10, 'class_weight': 'balanced'}\n",
      "Best Score: 0.6306382864577311\n"
     ]
    }
   ],
   "source": [
    "from sklearn.model_selection import RandomizedSearchCV\n",
    "from sklearn.utils import resample\n",
    "\n",
    "# Sample a subset of the data\n",
    "X_train_subset, y_train_subset = resample(X_train, y_train, n_samples=int(0.01 * len(X_train)), random_state=42)\n",
    "\n",
    "# hyperparameter space to search\n",
    "param_grid = {\n",
    "    'n_estimators': [50, 100, 200, 500],\n",
    "    'max_depth': [None, 5, 10, 20],\n",
    "    'min_samples_split': [2, 5, 10],\n",
    "    'min_samples_leaf': [1, 5, 10],\n",
    "    'class_weight': ['balanced', 'balanced_subsample']\n",
    "}\n",
    "\n",
    "rfc_model_1 = RandomForestClassifier(random_state=42)\n",
    "\n",
    "# randomized search with cross-validation\n",
    "random_search = RandomizedSearchCV(estimator=rfc_model_1, param_distributions=param_grid, n_iter=5, cv=5, scoring='f1_macro')\n",
    "random_search.fit(X_train_subset, y_train_subset)\n",
    "\n",
    "print(\"Best Parameters:\", random_search.best_params_)\n",
    "print(\"Best Score:\", random_search.best_score_)"
   ]
  },
  {
   "cell_type": "code",
   "execution_count": 10,
   "metadata": {},
   "outputs": [
    {
     "name": "stdout",
     "output_type": "stream",
     "text": [
      "Validation Set Results:\n",
      "Accuracy: 0.7403565361784972\n",
      "Confusion Matrix:\n",
      " [[68253 25132]\n",
      " [ 2075  9326]]\n",
      "Classification Report:\n",
      "               precision    recall  f1-score   support\n",
      "\n",
      "           0       0.97      0.73      0.83     93385\n",
      "           1       0.27      0.82      0.41     11401\n",
      "\n",
      "    accuracy                           0.74    104786\n",
      "   macro avg       0.62      0.77      0.62    104786\n",
      "weighted avg       0.89      0.74      0.79    104786\n",
      "\n"
     ]
    }
   ],
   "source": [
    "best_rfc_model = random_search.best_estimator_\n",
    "best_rfc_model.fit(X_train, y_train)\n",
    "\n",
    "y_val_pred = best_rfc_model.predict(X_val)\n",
    "\n",
    "print(\"Validation Set Results:\")\n",
    "print(\"Accuracy:\", accuracy_score(y_val, y_val_pred))\n",
    "print(\"Confusion Matrix:\\n\", confusion_matrix(y_val, y_val_pred))\n",
    "print(\"Classification Report:\\n\", classification_report(y_val, y_val_pred))"
   ]
  },
  {
   "cell_type": "code",
   "execution_count": 11,
   "metadata": {},
   "outputs": [
    {
     "name": "stdout",
     "output_type": "stream",
     "text": [
      "Adjusted Validation Set Results:\n",
      "Accuracy: 0.9587063157292005\n",
      "Confusion Matrix:\n",
      " [[91294  2091]\n",
      " [ 2236  9165]]\n",
      "Classification Report:\n",
      "               precision    recall  f1-score   support\n",
      "\n",
      "           0       0.98      0.98      0.98     93385\n",
      "           1       0.81      0.80      0.81     11401\n",
      "\n",
      "    accuracy                           0.96    104786\n",
      "   macro avg       0.90      0.89      0.89    104786\n",
      "weighted avg       0.96      0.96      0.96    104786\n",
      "\n"
     ]
    }
   ],
   "source": [
    "from sklearn.metrics import precision_recall_curve\n",
    "\n",
    "y_val_probs = rfc_model.predict_proba(X_val)[:, 1]\n",
    "precisions, recalls, thresholds = precision_recall_curve(y_val, y_val_probs)\n",
    "\n",
    "# Adjusting the threshold to favor recall\n",
    "threshold = 0.3  # You can set this based on the precision-recall curve\n",
    "y_val_adjusted = (y_val_probs >= threshold).astype(int)\n",
    "\n",
    "print(\"Adjusted Validation Set Results:\")\n",
    "print(\"Accuracy:\", accuracy_score(y_val, y_val_adjusted))\n",
    "print(\"Confusion Matrix:\\n\", confusion_matrix(y_val, y_val_adjusted))\n",
    "print(\"Classification Report:\\n\", classification_report(y_val, y_val_adjusted))\n"
   ]
  },
  {
   "cell_type": "code",
   "execution_count": 12,
   "metadata": {},
   "outputs": [
    {
     "data": {
      "image/png": "[encoded data removed]",
      "text/plain": [
       "<Figure size 1000x600 with 1 Axes>"
      ]
     },
     "metadata": {},
     "output_type": "display_data"
    }
   ],
   "source": [
    "import matplotlib.pyplot as plt\n",
    "import numpy as np\n",
    "\n",
    "# Get feature importances\n",
    "importances = rfc_model.feature_importances_\n",
    "indices = np.argsort(importances)[::-1]\n",
    "\n",
    "# Plot the feature importances\n",
    "plt.figure(figsize=(10, 6))\n",
    "plt.title(\"Feature Importances\")\n",
    "plt.bar(range(X_train.shape[1]), importances[indices], align=\"center\")\n",
    "plt.xticks(range(X_train.shape[1]), X_train.columns[indices], rotation=90)\n",
    "plt.tight_layout()\n",
    "plt.show()\n"
   ]
  },
  {
   "cell_type": "code",
   "execution_count": 13,
   "metadata": {},
   "outputs": [
    {
     "name": "stdout",
     "output_type": "stream",
     "text": [
      "XGBoost Validation Set Results:\n",
      "Accuracy: 0.9287977401561277\n",
      "Confusion Matrix:\n",
      " [[92663   722]\n",
      " [ 6739  4662]]\n",
      "Classification Report:\n",
      "               precision    recall  f1-score   support\n",
      "\n",
      "           0       0.93      0.99      0.96     93385\n",
      "           1       0.87      0.41      0.56     11401\n",
      "\n",
      "    accuracy                           0.93    104786\n",
      "   macro avg       0.90      0.70      0.76    104786\n",
      "weighted avg       0.92      0.93      0.92    104786\n",
      "\n"
     ]
    }
   ],
   "source": [
    "from xgboost import XGBClassifier\n",
    "\n",
    "xgb_model = XGBClassifier(random_state=42)\n",
    "xgb_model.fit(X_train, y_train)\n",
    "y_val_pred_xgb = xgb_model.predict(X_val)\n",
    "\n",
    "print(\"XGBoost Validation Set Results:\")\n",
    "print(\"Accuracy:\", accuracy_score(y_val, y_val_pred_xgb))\n",
    "print(\"Confusion Matrix:\\n\", confusion_matrix(y_val, y_val_pred_xgb))\n",
    "print(\"Classification Report:\\n\", classification_report(y_val, y_val_pred_xgb))\n"
   ]
  },
  {
   "cell_type": "code",
   "execution_count": 14,
   "metadata": {},
   "outputs": [
    {
     "name": "stdout",
     "output_type": "stream",
     "text": [
      "Adjusted Test Set Results:\n",
      "Accuracy: 0.9570652848158646\n",
      "Confusion Matrix:\n",
      " [[91263  2109]\n",
      " [ 2390  9025]]\n",
      "Classification Report:\n",
      "               precision    recall  f1-score   support\n",
      "\n",
      "           0       0.97      0.98      0.98     93372\n",
      "           1       0.81      0.79      0.80     11415\n",
      "\n",
      "    accuracy                           0.96    104787\n",
      "   macro avg       0.89      0.88      0.89    104787\n",
      "weighted avg       0.96      0.96      0.96    104787\n",
      "\n"
     ]
    }
   ],
   "source": [
    "# The rfc_model performed well compared to the others\n",
    "# using the rfc_model on the test data with the adjusted threshold\n",
    "y_test_probs = rfc_model.predict_proba(X_test)[:, 1]\n",
    "y_test_adjusted = (y_test_probs >= threshold).astype(int)\n",
    "\n",
    "print(\"Adjusted Test Set Results:\")\n",
    "print(\"Accuracy:\", accuracy_score(y_test, y_test_adjusted))\n",
    "print(\"Confusion Matrix:\\n\", confusion_matrix(y_test, y_test_adjusted))\n",
    "print(\"Classification Report:\\n\", classification_report(y_test, y_test_adjusted))"
   ]
  },
  {
   "cell_type": "code",
   "execution_count": 15,
   "metadata": {},
   "outputs": [
    {
     "data": {
      "text/plain": [
       "['rfc_model.joblib']"
      ]
     },
     "execution_count": 15,
     "metadata": {},
     "output_type": "execute_result"
    }
   ],
   "source": [
    "import joblib\n",
    "\n",
    "joblib.dump(rfc_model, 'rfc_model.joblib')"
   ]
  }
 ],
 "metadata": {
  "kernelspec": {
   "display_name": "Python 3",
   "language": "python",
   "name": "python3"
  },
  "language_info": {
   "codemirror_mode": {
    "name": "ipython",
    "version": 3
   },
   "file_extension": ".py",
   "mimetype": "text/x-python",
   "name": "python",
   "nbconvert_exporter": "python",
   "pygments_lexer": "ipython3",
   "version": "3.12.3"
  }
 },
 "nbformat": 4,
 "nbformat_minor": 2
}
